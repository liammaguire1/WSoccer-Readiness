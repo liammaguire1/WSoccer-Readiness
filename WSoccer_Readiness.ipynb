{
 "cells": [
  {
   "attachments": {},
   "cell_type": "markdown",
   "metadata": {},
   "source": [
    "## Load in data and remove extra columns ##"
   ]
  },
  {
   "cell_type": "code",
   "execution_count": 7,
   "metadata": {},
   "outputs": [],
   "source": [
    "import pandas as pd\n",
    "import glob\n",
    "import os\n",
    "\n",
    "from datetime import datetime\n",
    "\n",
    "path = os.getcwd()\n",
    "csv_files = glob.glob(os.path.join(path, \"*.csv\"))\n",
    "\n",
    "for file in csv_files:\n",
    "    df = pd.read_csv(file)\n",
    "\n",
    "df = df[['Date', 'Last', 'First', 'Score', 'Sleep Hours']]"
   ]
  },
  {
   "attachments": {},
   "cell_type": "markdown",
   "metadata": {},
   "source": [
    "## Add rows with week averages ##"
   ]
  },
  {
   "cell_type": "code",
   "execution_count": 8,
   "metadata": {},
   "outputs": [],
   "source": [
    "dates = df['Date'].unique()\n",
    "weeks = []\n",
    "week = []\n",
    "\n",
    "# Separate days into weeks\n",
    "for idx, date in enumerate(dates):\n",
    "    \n",
    "    # Create datetime object from str\n",
    "    clean_date = datetime.strptime(date, \"%Y-%m-%d\")\n",
    "    \n",
    "    # Add day to current week\n",
    "    week.append(date)\n",
    "    \n",
    "    # End of week (Monday)\n",
    "    if clean_date.weekday() == 0 or idx == len(dates) - 1:\n",
    "        weeks.append(week)\n",
    "        week = []\n",
    "\n",
    "# Add row with team averages for each full week\n",
    "for week in weeks:\n",
    "    score_mean = df.loc[df['Date'].isin(week), 'Score'].mean()\n",
    "    sleep_mean = df.loc[df['Date'].isin(week), 'Sleep Hours'].mean()\n",
    "    row = ({\n",
    "        'Date': f\"{week[0]} Weekly Avg\",\n",
    "        'Last': ' Team',\n",
    "        'First': 'Average',\n",
    "        'Score': score_mean,\n",
    "        'Sleep Hours': sleep_mean\n",
    "    })\n",
    "    idx = df.loc[df['Date'] == week[-1]].index.array[-1] + 1\n",
    "    df2 = pd.DataFrame(row, index=[idx])\n",
    "    df = pd.concat([df, df2]).sort_index().reset_index(drop=True)\n",
    "df['Score'] = df['Score'].round(2)\n",
    "df['Sleep Hours'] = df['Sleep Hours'].round(1)\n",
    "    \n",
    "\n"
   ]
  },
  {
   "attachments": {},
   "cell_type": "markdown",
   "metadata": {},
   "source": [
    "## Add conditional formatting and export to excel ##"
   ]
  },
  {
   "cell_type": "code",
   "execution_count": 9,
   "metadata": {},
   "outputs": [],
   "source": [
    "score = 'Score'\n",
    "sleep = 'Sleep Hours'\n",
    "\n",
    "# Create multiindex dataframe\n",
    "df = df.pivot_table(index=['Last', 'First'], columns=['Date'], values=['Score', 'Sleep Hours']).sort_index(axis=1, level='Date', ascending=False)\n",
    "\n",
    "# Create individual dataframes for each week\n",
    "wks = []\n",
    "wk = pd.DataFrame()\n",
    "for idx, col in enumerate(df):\n",
    "    if idx > 0 and col[0] == 'Sleep Hours' and 'W' in col[1]:\n",
    "        wk = wk.iloc[:, ::-1]\n",
    "        wk.columns = pd.MultiIndex.from_tuples(wk.columns, names=['','Date']).swaplevel(0, 1)\n",
    "        wks.append(wk)\n",
    "        wk = pd.DataFrame()\n",
    "    wk[col] = df[col]\n",
    "\n",
    "# Score conditional formatting\n",
    "def score_f(val):\n",
    "    highlight = ''\n",
    "    if val < 60:\n",
    "        highlight = 'background-color: red'\n",
    "    elif val >= 60 and val < 70:\n",
    "        highlight = 'background-color: orange'\n",
    "    elif val >= 70 and val < 85:\n",
    "        highlight = 'background-color: yellow'\n",
    "    elif val >= 85:\n",
    "        highlight =  'background-color: #15DE00'\n",
    "    return highlight\n",
    "\n",
    "# Sleep conditional formatting\n",
    "def sleep_f(val):\n",
    "    highlight = ''\n",
    "    if val < 6:\n",
    "        highlight = 'background-color: red'\n",
    "    elif val >= 6 and val < 8:\n",
    "        highlight = 'background-color: yellow'\n",
    "    elif val >= 8:\n",
    "        highlight =  'background-color: #15DE00'\n",
    "    return highlight\n",
    "\n",
    "# Blank cells\n",
    "def blank(val):\n",
    "    highlight = ''\n",
    "    if val == 'nan':\n",
    "        highlight = 'backgroundcolor: white'\n",
    "    return highlight\n",
    "\n",
    "current_date = datetime.today().strftime('%Y-%m-%d')\n",
    "with pd.ExcelWriter(f'WSoccer Readiness {current_date}.xlsx', engine='xlsxwriter') as writer:\n",
    "    for idx, w in enumerate(wks):\n",
    "        styled_w = (w\n",
    "        .style\n",
    "        .applymap(score_f, subset=[col for col in w.columns if col[1] == 'Score'])\n",
    "        .applymap(sleep_f, subset=[col for col in w.columns if col[1] == 'Sleep Hours'])\n",
    "        .applymap(blank)\n",
    "        .set_properties(**{'text-align': 'center'})\n",
    "         )\n",
    "        styled_w.to_excel(writer, freeze_panes=(0, 2), sheet_name=str(w.columns[0][0]))\n",
    "\n",
    "        workbook  = writer.book\n",
    "        worksheet = writer.sheets[str(w.columns[0][0])]\n",
    "        worksheet.set_column(0, len(w), 10)\n",
    "        worksheet.insert_image(f'{chr(len(w.columns) + 67)}9', 'WSoccer logo.png')"
   ]
  }
 ],
 "metadata": {
  "kernelspec": {
   "display_name": "Python 3",
   "language": "python",
   "name": "python3"
  },
  "language_info": {
   "codemirror_mode": {
    "name": "ipython",
    "version": 3
   },
   "file_extension": ".py",
   "mimetype": "text/x-python",
   "name": "python",
   "nbconvert_exporter": "python",
   "pygments_lexer": "ipython3",
   "version": "3.9.6"
  },
  "orig_nbformat": 4,
  "vscode": {
   "interpreter": {
    "hash": "aee8b7b246df8f9039afb4144a1f6fd8d2ca17a180786b69acc140d282b71a49"
   }
  }
 },
 "nbformat": 4,
 "nbformat_minor": 2
}
